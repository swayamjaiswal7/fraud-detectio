{
 "cells": [
  {
   "cell_type": "code",
   "execution_count": 1,
   "id": "26ead378-4259-4e98-9a1f-213d170c08b0",
   "metadata": {},
   "outputs": [],
   "source": [
    "import pandas as pd\n",
    "import numpy as np\n",
    "import matplotlib.pyplot as plt\n",
    "from sklearn.model_selection import KFold, train_test_split\n",
    "from sklearn.ensemble import RandomForestClassifier\n",
    "from sklearn import preprocessing\n",
    "from sklearn.metrics import accuracy_score, confusion_matrix\n",
    "from xgboost import XGBClassifier\n",
    "import seaborn as sns\n",
    "import pickle\n",
    "%matplotlib inline"
   ]
  },
  {
   "cell_type": "code",
   "execution_count": 2,
   "id": "6e309b5e-4f0d-44d7-a728-8cbfd1d5ca2f",
   "metadata": {},
   "outputs": [],
   "source": [
    "df=pd.read_csv(r\"D:\\ML-Fraud-Detection\\notebooks\\AIML Dataset.csv\")"
   ]
  },
  {
   "cell_type": "code",
   "execution_count": 3,
   "id": "c3ab71a8-2f79-4d50-b446-6353695b31ed",
   "metadata": {},
   "outputs": [],
   "source": [
    "df1=df.drop(['isFlaggedFraud','nameDest','nameOrig'],axis=1)"
   ]
  },
  {
   "cell_type": "code",
   "execution_count": 4,
   "id": "f4c41d12-6f6a-469b-8a50-bedfa2c6ec9e",
   "metadata": {},
   "outputs": [
    {
     "name": "stdout",
     "output_type": "stream",
     "text": [
      "['TRANSFER', 'CASH_OUT']\n"
     ]
    }
   ],
   "source": [
    "fraudTransactions = df.loc[df.isFraud == 1].type.drop_duplicates().values \n",
    "print(list(fraudTransactions))"
   ]
  },
  {
   "cell_type": "code",
   "execution_count": 5,
   "id": "f6d366e4-844b-4547-9cdf-dbcbba0b15d0",
   "metadata": {},
   "outputs": [],
   "source": [
    "dfTransactions = df.loc[(df.type == 'TRANSFER') | (df.type == 'CASH_OUT')] \n",
    "dfFraud = dfTransactions['isFraud']\n",
    "del dfTransactions['isFraud']"
   ]
  },
  {
   "cell_type": "code",
   "execution_count": 6,
   "id": "f7b4702e-05a3-4e51-b639-70f24c619e97",
   "metadata": {},
   "outputs": [
    {
     "name": "stderr",
     "output_type": "stream",
     "text": [
      "C:\\Users\\swaya\\AppData\\Local\\Temp\\ipykernel_9768\\1561281022.py:3: SettingWithCopyWarning: \n",
      "A value is trying to be set on a copy of a slice from a DataFrame.\n",
      "Try using .loc[row_indexer,col_indexer] = value instead\n",
      "\n",
      "See the caveats in the documentation: https://pandas.pydata.org/pandas-docs/stable/user_guide/indexing.html#returning-a-view-versus-a-copy\n",
      "  dfTransactions.type = dfTransactions.type.astype(int)\n"
     ]
    }
   ],
   "source": [
    "dfTransactions.loc[dfTransactions.type == 'TRANSFER', 'type'] = 0 \n",
    "dfTransactions.loc[dfTransactions.type == 'CASH_OUT', 'type'] = 1 \n",
    "dfTransactions.type = dfTransactions.type.astype(int)"
   ]
  },
  {
   "cell_type": "code",
   "execution_count": 7,
   "id": "41997ac3-b95e-4bfa-885e-31ca63f26672",
   "metadata": {},
   "outputs": [
    {
     "name": "stdout",
     "output_type": "stream",
     "text": [
      "Part of anomaly transactions among fraudulent:  0.4955558261293072\n",
      "Part of anomaly transactions among regular (non-fraudulent):  0.0006176245277308345\n"
     ]
    }
   ],
   "source": [
    "dfTransactionsFraud = dfTransactions.loc[dfFraud == 1] \n",
    "dfTransactionsNonFraud = dfTransactions.loc[dfFraud == 0] \n",
    "fractionAnomalyTransactionsInFraud = len(dfTransactionsFraud.loc[\n",
    "                                                                (dfTransactionsFraud.oldbalanceDest == 0)\n",
    "                                                                & (dfTransactionsFraud.newbalanceDest == 0) \n",
    "                                                                & (dfTransactionsFraud.amount)\n",
    "                                                                ]) / (1.0 * len(dfTransactionsFraud)) \n",
    "print(\"Part of anomaly transactions among fraudulent: \",fractionAnomalyTransactionsInFraud )\n",
    "fractionAnomalyTransactionsInNonFraud = len(dfTransactionsNonFraud.loc[ (dfTransactionsNonFraud.oldbalanceDest == 0) & (dfTransactionsNonFraud.newbalanceDest == 0) & (dfTransactionsNonFraud.amount) ]) / (1.0 * len(dfTransactionsNonFraud)) \n",
    "print(\"Part of anomaly transactions among regular (non-fraudulent): \",fractionAnomalyTransactionsInNonFraud )"
   ]
  },
  {
   "cell_type": "code",
   "execution_count": 8,
   "id": "3bef6bee-af57-451f-a7d3-aaf92a2832ed",
   "metadata": {},
   "outputs": [],
   "source": [
    "dfTransactions.loc[\n",
    "                   (dfTransactions.oldbalanceDest == 0) \n",
    "                   & (dfTransactions.newbalanceDest == 0) \n",
    "                   & (dfTransactions.amount != 0),  \n",
    "                   ['oldbalanceDest', 'newbalanceDest']] = - 1"
   ]
  },
  {
   "cell_type": "code",
   "execution_count": 9,
   "id": "c7138e8e-ab14-4898-9739-952ecf82ef27",
   "metadata": {},
   "outputs": [],
   "source": [
    "dfTransactions.loc[ \n",
    "                   (dfTransactions.oldbalanceOrg == 0)\n",
    "                   & (dfTransactions.newbalanceOrig == 0) & (dfTransactions.amount != 0), \n",
    "                   ['oldbalanceOrg', 'newbalanceOrig']] = np.nan"
   ]
  },
  {
   "cell_type": "code",
   "execution_count": 10,
   "id": "561c9f89-42ca-425e-856f-19cf0ab8850d",
   "metadata": {},
   "outputs": [
    {
     "name": "stderr",
     "output_type": "stream",
     "text": [
      "C:\\Users\\swaya\\AppData\\Local\\Temp\\ipykernel_9768\\1598565030.py:1: SettingWithCopyWarning: \n",
      "A value is trying to be set on a copy of a slice from a DataFrame.\n",
      "Try using .loc[row_indexer,col_indexer] = value instead\n",
      "\n",
      "See the caveats in the documentation: https://pandas.pydata.org/pandas-docs/stable/user_guide/indexing.html#returning-a-view-versus-a-copy\n",
      "  dfTransactions['errorbalanceDest'] = dfTransactions.oldbalanceDest + dfTransactions.amount - dfTransactions.newbalanceDest\n",
      "C:\\Users\\swaya\\AppData\\Local\\Temp\\ipykernel_9768\\1598565030.py:2: SettingWithCopyWarning: \n",
      "A value is trying to be set on a copy of a slice from a DataFrame.\n",
      "Try using .loc[row_indexer,col_indexer] = value instead\n",
      "\n",
      "See the caveats in the documentation: https://pandas.pydata.org/pandas-docs/stable/user_guide/indexing.html#returning-a-view-versus-a-copy\n",
      "  dfTransactions['errorbalanceOrig'] = dfTransactions.newbalanceOrig + dfTransactions.amount - dfTransactions.oldbalanceOrg\n"
     ]
    }
   ],
   "source": [
    "dfTransactions['errorbalanceDest'] = dfTransactions.oldbalanceDest + dfTransactions.amount - dfTransactions.newbalanceDest\n",
    "dfTransactions['errorbalanceOrig'] = dfTransactions.newbalanceOrig + dfTransactions.amount - dfTransactions.oldbalanceOrg"
   ]
  },
  {
   "cell_type": "code",
   "execution_count": 11,
   "id": "9a1b64a8-cc1f-40ac-942a-96d7255c5f16",
   "metadata": {},
   "outputs": [
    {
     "name": "stderr",
     "output_type": "stream",
     "text": [
      "C:\\Users\\swaya\\AppData\\Local\\Temp\\ipykernel_9768\\267943877.py:1: SettingWithCopyWarning: \n",
      "A value is trying to be set on a copy of a slice from a DataFrame\n",
      "\n",
      "See the caveats in the documentation: https://pandas.pydata.org/pandas-docs/stable/user_guide/indexing.html#returning-a-view-versus-a-copy\n",
      "  dfTransactions.drop(['step','nameOrig','nameDest','isFlaggedFraud'],axis=1,inplace=True)\n"
     ]
    }
   ],
   "source": [
    "dfTransactions.drop(['step','nameOrig','nameDest','isFlaggedFraud'],axis=1,inplace=True)"
   ]
  },
  {
   "cell_type": "code",
   "execution_count": 12,
   "id": "51d85488-928c-4326-aa61-7b565f335c94",
   "metadata": {},
   "outputs": [],
   "source": [
    "df1=dfTransactions.drop(['errorbalanceDest',\n",
    " 'errorbalanceOrig'],axis=1)"
   ]
  },
  {
   "cell_type": "code",
   "execution_count": 13,
   "id": "ab9ee004-2c73-425a-92c6-9373bd8904ee",
   "metadata": {},
   "outputs": [
    {
     "data": {
      "text/plain": [
       "['type',\n",
       " 'amount',\n",
       " 'oldbalanceOrg',\n",
       " 'newbalanceOrig',\n",
       " 'oldbalanceDest',\n",
       " 'newbalanceDest']"
      ]
     },
     "execution_count": 13,
     "metadata": {},
     "output_type": "execute_result"
    }
   ],
   "source": [
    "list(df1)"
   ]
  },
  {
   "cell_type": "code",
   "execution_count": 14,
   "id": "1e3b7651-376e-47b8-ab21-6c1c8b634618",
   "metadata": {},
   "outputs": [],
   "source": [
    "randomState = 5\n",
    "np.random.seed(randomState)\n",
    "trainX, testX, trainY, testY = train_test_split(dfTransactions, dfFraud, test_size = 0.2, random_state = randomState )"
   ]
  },
  {
   "cell_type": "code",
   "execution_count": 15,
   "id": "75141d60-c7dc-48ee-aee5-b07362755ce2",
   "metadata": {},
   "outputs": [],
   "source": [
    "weights = (dfFraud == 0).sum() / (1.0 * (dfFraud == 1).sum()) \n",
    "classifier = XGBClassifier(max_depth = 3, scale_pos_weight = weights, n_jobs = 4)\n",
    "predictions = classifier.fit(trainX, trainY).predict_proba(testX) "
   ]
  },
  {
   "cell_type": "code",
   "execution_count": 16,
   "id": "7b46f6cd-8718-40a6-8374-5c4366c11629",
   "metadata": {},
   "outputs": [
    {
     "name": "stdout",
     "output_type": "stream",
     "text": [
      "              precision    recall  f1-score   support\n",
      "\n",
      "           0       1.00      1.00      1.00    552412\n",
      "           1       0.84      1.00      0.91      1670\n",
      "\n",
      "    accuracy                           1.00    554082\n",
      "   macro avg       0.92      1.00      0.96    554082\n",
      "weighted avg       1.00      1.00      1.00    554082\n",
      "\n"
     ]
    }
   ],
   "source": [
    "preddf=classifier.predict(testX)\n",
    "from sklearn.metrics import classification_report \n",
    "\n",
    "print(classification_report(testY,preddf))"
   ]
  },
  {
   "cell_type": "code",
   "execution_count": 18,
   "id": "60cbd842-bba8-4ec0-b7ca-f31d895b6279",
   "metadata": {},
   "outputs": [
    {
     "data": {
      "text/plain": [
       "['fraud_xgb_model.pkl']"
      ]
     },
     "execution_count": 18,
     "metadata": {},
     "output_type": "execute_result"
    }
   ],
   "source": [
    "import joblib \n",
    "joblib.dump(classifier,'fraud_xgb_model.pkl')"
   ]
  },
  {
   "cell_type": "code",
   "execution_count": 19,
   "id": "5b2711fc-cbac-4052-b52c-71191a90ae0f",
   "metadata": {},
   "outputs": [
    {
     "name": "stderr",
     "output_type": "stream",
     "text": [
      "2025-09-09 16:12:19.492 \n",
      "  \u001b[33m\u001b[1mWarning:\u001b[0m to view this Streamlit app on a browser, run it with the following\n",
      "  command:\n",
      "\n",
      "    streamlit run C:\\Users\\swaya\\anaconda3\\Lib\\site-packages\\ipykernel_launcher.py [ARGUMENTS]\n"
     ]
    },
    {
     "ename": "ValueError",
     "evalue": "feature_names mismatch: ['type', 'amount', 'oldbalanceOrg', 'newbalanceOrig', 'oldbalanceDest', 'newbalanceDest', 'errorbalanceDest', 'errorbalanceOrig'] ['amount', 'oldbalanceOrg', 'newbalanceOrig', 'oldbalanceDest', 'newbalanceDest', 'type', 'errorbalanceDest', 'errorbalanceOrig']",
     "output_type": "error",
     "traceback": [
      "\u001b[1;31m---------------------------------------------------------------------------\u001b[0m",
      "\u001b[1;31mValueError\u001b[0m                                Traceback (most recent call last)",
      "Cell \u001b[1;32mIn[19], line 34\u001b[0m\n\u001b[0;32m     22\u001b[0m user_data \u001b[38;5;241m=\u001b[39m pd\u001b[38;5;241m.\u001b[39mDataFrame([{\n\u001b[0;32m     23\u001b[0m     \u001b[38;5;124m\"\u001b[39m\u001b[38;5;124mamount\u001b[39m\u001b[38;5;124m\"\u001b[39m: amount,\n\u001b[0;32m     24\u001b[0m     \u001b[38;5;124m\"\u001b[39m\u001b[38;5;124moldbalanceOrg\u001b[39m\u001b[38;5;124m\"\u001b[39m: oldbalanceOrg,\n\u001b[1;32m   (...)\u001b[0m\n\u001b[0;32m     30\u001b[0m     \u001b[38;5;124m\"\u001b[39m\u001b[38;5;124merrorbalanceOrig\u001b[39m\u001b[38;5;124m\"\u001b[39m: newbalanceOrig \u001b[38;5;241m+\u001b[39m amount \u001b[38;5;241m-\u001b[39m oldbalanceOrg\n\u001b[0;32m     31\u001b[0m }])\n\u001b[0;32m     33\u001b[0m \u001b[38;5;66;03m# --- Predict ---\u001b[39;00m\n\u001b[1;32m---> 34\u001b[0m prediction \u001b[38;5;241m=\u001b[39m model\u001b[38;5;241m.\u001b[39mpredict(user_data)[\u001b[38;5;241m0\u001b[39m]\n\u001b[0;32m     36\u001b[0m \u001b[38;5;66;03m# --- Display results ---\u001b[39;00m\n\u001b[0;32m     37\u001b[0m \u001b[38;5;28;01mif\u001b[39;00m prediction \u001b[38;5;241m==\u001b[39m \u001b[38;5;241m1\u001b[39m:\n",
      "File \u001b[1;32m~\\anaconda3\\Lib\\site-packages\\xgboost\\core.py:729\u001b[0m, in \u001b[0;36mrequire_keyword_args.<locals>.throw_if.<locals>.inner_f\u001b[1;34m(*args, **kwargs)\u001b[0m\n\u001b[0;32m    727\u001b[0m \u001b[38;5;28;01mfor\u001b[39;00m k, arg \u001b[38;5;129;01min\u001b[39;00m \u001b[38;5;28mzip\u001b[39m(sig\u001b[38;5;241m.\u001b[39mparameters, args):\n\u001b[0;32m    728\u001b[0m     kwargs[k] \u001b[38;5;241m=\u001b[39m arg\n\u001b[1;32m--> 729\u001b[0m \u001b[38;5;28;01mreturn\u001b[39;00m func(\u001b[38;5;241m*\u001b[39m\u001b[38;5;241m*\u001b[39mkwargs)\n",
      "File \u001b[1;32m~\\anaconda3\\Lib\\site-packages\\xgboost\\sklearn.py:1719\u001b[0m, in \u001b[0;36mXGBClassifier.predict\u001b[1;34m(self, X, output_margin, validate_features, base_margin, iteration_range)\u001b[0m\n\u001b[0;32m   1708\u001b[0m \u001b[38;5;129m@_deprecate_positional_args\u001b[39m\n\u001b[0;32m   1709\u001b[0m \u001b[38;5;28;01mdef\u001b[39;00m \u001b[38;5;21mpredict\u001b[39m(\n\u001b[0;32m   1710\u001b[0m     \u001b[38;5;28mself\u001b[39m,\n\u001b[1;32m   (...)\u001b[0m\n\u001b[0;32m   1716\u001b[0m     iteration_range: Optional[IterationRange] \u001b[38;5;241m=\u001b[39m \u001b[38;5;28;01mNone\u001b[39;00m,\n\u001b[0;32m   1717\u001b[0m ) \u001b[38;5;241m-\u001b[39m\u001b[38;5;241m>\u001b[39m ArrayLike:\n\u001b[0;32m   1718\u001b[0m     \u001b[38;5;28;01mwith\u001b[39;00m config_context(verbosity\u001b[38;5;241m=\u001b[39m\u001b[38;5;28mself\u001b[39m\u001b[38;5;241m.\u001b[39mverbosity):\n\u001b[1;32m-> 1719\u001b[0m         class_probs \u001b[38;5;241m=\u001b[39m \u001b[38;5;28msuper\u001b[39m()\u001b[38;5;241m.\u001b[39mpredict(\n\u001b[0;32m   1720\u001b[0m             X\u001b[38;5;241m=\u001b[39mX,\n\u001b[0;32m   1721\u001b[0m             output_margin\u001b[38;5;241m=\u001b[39moutput_margin,\n\u001b[0;32m   1722\u001b[0m             validate_features\u001b[38;5;241m=\u001b[39mvalidate_features,\n\u001b[0;32m   1723\u001b[0m             base_margin\u001b[38;5;241m=\u001b[39mbase_margin,\n\u001b[0;32m   1724\u001b[0m             iteration_range\u001b[38;5;241m=\u001b[39miteration_range,\n\u001b[0;32m   1725\u001b[0m         )\n\u001b[0;32m   1726\u001b[0m         \u001b[38;5;28;01mif\u001b[39;00m output_margin:\n\u001b[0;32m   1727\u001b[0m             \u001b[38;5;66;03m# If output_margin is active, simply return the scores\u001b[39;00m\n\u001b[0;32m   1728\u001b[0m             \u001b[38;5;28;01mreturn\u001b[39;00m class_probs\n",
      "File \u001b[1;32m~\\anaconda3\\Lib\\site-packages\\xgboost\\core.py:729\u001b[0m, in \u001b[0;36mrequire_keyword_args.<locals>.throw_if.<locals>.inner_f\u001b[1;34m(*args, **kwargs)\u001b[0m\n\u001b[0;32m    727\u001b[0m \u001b[38;5;28;01mfor\u001b[39;00m k, arg \u001b[38;5;129;01min\u001b[39;00m \u001b[38;5;28mzip\u001b[39m(sig\u001b[38;5;241m.\u001b[39mparameters, args):\n\u001b[0;32m    728\u001b[0m     kwargs[k] \u001b[38;5;241m=\u001b[39m arg\n\u001b[1;32m--> 729\u001b[0m \u001b[38;5;28;01mreturn\u001b[39;00m func(\u001b[38;5;241m*\u001b[39m\u001b[38;5;241m*\u001b[39mkwargs)\n",
      "File \u001b[1;32m~\\anaconda3\\Lib\\site-packages\\xgboost\\sklearn.py:1327\u001b[0m, in \u001b[0;36mXGBModel.predict\u001b[1;34m(self, X, output_margin, validate_features, base_margin, iteration_range)\u001b[0m\n\u001b[0;32m   1325\u001b[0m \u001b[38;5;28;01mif\u001b[39;00m \u001b[38;5;28mself\u001b[39m\u001b[38;5;241m.\u001b[39m_can_use_inplace_predict():\n\u001b[0;32m   1326\u001b[0m     \u001b[38;5;28;01mtry\u001b[39;00m:\n\u001b[1;32m-> 1327\u001b[0m         predts \u001b[38;5;241m=\u001b[39m \u001b[38;5;28mself\u001b[39m\u001b[38;5;241m.\u001b[39mget_booster()\u001b[38;5;241m.\u001b[39minplace_predict(\n\u001b[0;32m   1328\u001b[0m             data\u001b[38;5;241m=\u001b[39mX,\n\u001b[0;32m   1329\u001b[0m             iteration_range\u001b[38;5;241m=\u001b[39miteration_range,\n\u001b[0;32m   1330\u001b[0m             predict_type\u001b[38;5;241m=\u001b[39m\u001b[38;5;124m\"\u001b[39m\u001b[38;5;124mmargin\u001b[39m\u001b[38;5;124m\"\u001b[39m \u001b[38;5;28;01mif\u001b[39;00m output_margin \u001b[38;5;28;01melse\u001b[39;00m \u001b[38;5;124m\"\u001b[39m\u001b[38;5;124mvalue\u001b[39m\u001b[38;5;124m\"\u001b[39m,\n\u001b[0;32m   1331\u001b[0m             missing\u001b[38;5;241m=\u001b[39m\u001b[38;5;28mself\u001b[39m\u001b[38;5;241m.\u001b[39mmissing,\n\u001b[0;32m   1332\u001b[0m             base_margin\u001b[38;5;241m=\u001b[39mbase_margin,\n\u001b[0;32m   1333\u001b[0m             validate_features\u001b[38;5;241m=\u001b[39mvalidate_features,\n\u001b[0;32m   1334\u001b[0m         )\n\u001b[0;32m   1335\u001b[0m         \u001b[38;5;28;01mif\u001b[39;00m _is_cupy_alike(predts):\n\u001b[0;32m   1336\u001b[0m             cp \u001b[38;5;241m=\u001b[39m import_cupy()\n",
      "File \u001b[1;32m~\\anaconda3\\Lib\\site-packages\\xgboost\\core.py:729\u001b[0m, in \u001b[0;36mrequire_keyword_args.<locals>.throw_if.<locals>.inner_f\u001b[1;34m(*args, **kwargs)\u001b[0m\n\u001b[0;32m    727\u001b[0m \u001b[38;5;28;01mfor\u001b[39;00m k, arg \u001b[38;5;129;01min\u001b[39;00m \u001b[38;5;28mzip\u001b[39m(sig\u001b[38;5;241m.\u001b[39mparameters, args):\n\u001b[0;32m    728\u001b[0m     kwargs[k] \u001b[38;5;241m=\u001b[39m arg\n\u001b[1;32m--> 729\u001b[0m \u001b[38;5;28;01mreturn\u001b[39;00m func(\u001b[38;5;241m*\u001b[39m\u001b[38;5;241m*\u001b[39mkwargs)\n",
      "File \u001b[1;32m~\\anaconda3\\Lib\\site-packages\\xgboost\\core.py:2667\u001b[0m, in \u001b[0;36mBooster.inplace_predict\u001b[1;34m(self, data, iteration_range, predict_type, missing, validate_features, base_margin, strict_shape)\u001b[0m\n\u001b[0;32m   2665\u001b[0m     data, fns, _ \u001b[38;5;241m=\u001b[39m _transform_pandas_df(data, enable_categorical)\n\u001b[0;32m   2666\u001b[0m     \u001b[38;5;28;01mif\u001b[39;00m validate_features:\n\u001b[1;32m-> 2667\u001b[0m         \u001b[38;5;28mself\u001b[39m\u001b[38;5;241m.\u001b[39m_validate_features(fns)\n\u001b[0;32m   2668\u001b[0m \u001b[38;5;28;01mif\u001b[39;00m _is_list(data) \u001b[38;5;129;01mor\u001b[39;00m _is_tuple(data):\n\u001b[0;32m   2669\u001b[0m     data \u001b[38;5;241m=\u001b[39m np\u001b[38;5;241m.\u001b[39marray(data)\n",
      "File \u001b[1;32m~\\anaconda3\\Lib\\site-packages\\xgboost\\core.py:3243\u001b[0m, in \u001b[0;36mBooster._validate_features\u001b[1;34m(self, feature_names)\u001b[0m\n\u001b[0;32m   3237\u001b[0m \u001b[38;5;28;01mif\u001b[39;00m my_missing:\n\u001b[0;32m   3238\u001b[0m     msg \u001b[38;5;241m+\u001b[39m\u001b[38;5;241m=\u001b[39m (\n\u001b[0;32m   3239\u001b[0m         \u001b[38;5;124m\"\u001b[39m\u001b[38;5;130;01m\\n\u001b[39;00m\u001b[38;5;124mtraining data did not have the following fields: \u001b[39m\u001b[38;5;124m\"\u001b[39m\n\u001b[0;32m   3240\u001b[0m         \u001b[38;5;241m+\u001b[39m \u001b[38;5;124m\"\u001b[39m\u001b[38;5;124m, \u001b[39m\u001b[38;5;124m\"\u001b[39m\u001b[38;5;241m.\u001b[39mjoin(\u001b[38;5;28mstr\u001b[39m(s) \u001b[38;5;28;01mfor\u001b[39;00m s \u001b[38;5;129;01min\u001b[39;00m my_missing)\n\u001b[0;32m   3241\u001b[0m     )\n\u001b[1;32m-> 3243\u001b[0m \u001b[38;5;28;01mraise\u001b[39;00m \u001b[38;5;167;01mValueError\u001b[39;00m(msg\u001b[38;5;241m.\u001b[39mformat(\u001b[38;5;28mself\u001b[39m\u001b[38;5;241m.\u001b[39mfeature_names, feature_names))\n",
      "\u001b[1;31mValueError\u001b[0m: feature_names mismatch: ['type', 'amount', 'oldbalanceOrg', 'newbalanceOrig', 'oldbalanceDest', 'newbalanceDest', 'errorbalanceDest', 'errorbalanceOrig'] ['amount', 'oldbalanceOrg', 'newbalanceOrig', 'oldbalanceDest', 'newbalanceDest', 'type', 'errorbalanceDest', 'errorbalanceOrig']"
     ]
    }
   ],
   "source": [
    "import streamlit as st\n",
    "import pandas as pd\n",
    "import joblib\n",
    "\n",
    "# Load trained XGBoost model\n",
    "model = joblib.load(\"fraud_xgb_model.pkl\")\n",
    "\n",
    "st.title(\"Fraud Detection with XGBoost\")\n",
    "\n",
    "# --- User Inputs ---\n",
    "amount = st.number_input(\"Transaction Amount\", min_value=0.0, step=100.0)\n",
    "oldbalanceOrg = st.number_input(\"Old Balance (Origin)\", min_value=0.0, step=100.0)\n",
    "newbalanceOrig = st.number_input(\"New Balance (Origin)\", min_value=0.0, step=100.0)\n",
    "oldbalanceDest = st.number_input(\"Old Balance (Destination)\", min_value=0.0, step=100.0)\n",
    "newbalanceDest = st.number_input(\"New Balance (Destination)\", min_value=0.0, step=100.0)\n",
    "\n",
    "# Transaction type (0 = TRANSFER, 1 = CASH_OUT)\n",
    "transaction_type = st.selectbox(\"Transaction Type\", [\"TRANSFER (0)\", \"CASH_OUT (1)\"])\n",
    "type_value = 0 if \"TRANSFER\" in transaction_type else 1\n",
    "\n",
    "# --- Build input DataFrame (one step with engineered features) ---\n",
    "user_data = pd.DataFrame([{\n",
    "    \"amount\": amount,\n",
    "    \"oldbalanceOrg\": oldbalanceOrg,\n",
    "    \"newbalanceOrig\": newbalanceOrig,\n",
    "    \"oldbalanceDest\": oldbalanceDest,\n",
    "    \"newbalanceDest\": newbalanceDest,\n",
    "    \"type\": type_value,  # transaction type encoded\n",
    "    \"errorbalanceDest\": oldbalanceDest + amount - newbalanceDest,\n",
    "    \"errorbalanceOrig\": newbalanceOrig + amount - oldbalanceOrg\n",
    "}])\n",
    "\n",
    "# --- Predict ---\n",
    "prediction = model.predict(user_data)[0]\n",
    "\n",
    "# --- Display results ---\n",
    "if prediction == 1:\n",
    "    st.error(\"🚨 Fraud Detected\")\n",
    "else:\n",
    "    st.success(\"✅ Not Fraudulent\")\n"
   ]
  },
  {
   "cell_type": "code",
   "execution_count": null,
   "id": "9ea055a5-b390-4c38-b85a-15cfcc7ffa4c",
   "metadata": {},
   "outputs": [],
   "source": []
  }
 ],
 "metadata": {
  "kernelspec": {
   "display_name": "Python 3 (ipykernel)",
   "language": "python",
   "name": "python3"
  },
  "language_info": {
   "codemirror_mode": {
    "name": "ipython",
    "version": 3
   },
   "file_extension": ".py",
   "mimetype": "text/x-python",
   "name": "python",
   "nbconvert_exporter": "python",
   "pygments_lexer": "ipython3",
   "version": "3.12.4"
  }
 },
 "nbformat": 4,
 "nbformat_minor": 5
}
